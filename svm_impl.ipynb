{
 "cells": [
  {
   "cell_type": "code",
   "execution_count": 1,
   "id": "036c1d18-f69f-4f10-9351-6123e8e71967",
   "metadata": {},
   "outputs": [],
   "source": [
    "import pandas as pd\n",
    "from pandas import DataFrame\n",
    "import numpy as np\n",
    "import seaborn as sn\n",
    "import matplotlib.pyplot as plt\n",
    "from sklearn.preprocessing import StandardScaler, MinMaxScaler, QuantileTransformer\n",
    "\n",
    "from sklearn.model_selection import train_test_split, cross_val_score, cross_validate\n",
    "from sklearn.svm import SVC   \n",
    "from sklearn.model_selection import GridSearchCV                 \n",
    "from sklearn.metrics import accuracy_score, balanced_accuracy_score, matthews_corrcoef, confusion_matrix, classification_report, make_scorer, f1_score, precision_score, recall_score\n"
   ]
  },
  {
   "cell_type": "code",
   "execution_count": 2,
   "id": "15b020d9-5909-48d7-a324-3f19f125044e",
   "metadata": {},
   "outputs": [],
   "source": [
    "# test = pd.read_csv('testing.csv', header=None, skiprows=1)\n",
    "\n",
    "train = pd.read_csv('./feature_extraction/features_last.csv')\n",
    "validation = pd.read_csv('./feature_extraction/validation.csv', header=None, skiprows=1)\n",
    "X = pd.read_csv('./feature_extraction/features_last.csv')\n"
   ]
  },
  {
   "cell_type": "code",
   "execution_count": 3,
   "id": "1eb0d573-0973-43e9-a2c8-c7d70dfdcda8",
   "metadata": {},
   "outputs": [
    {
     "data": {
      "text/html": [
       "<div>\n",
       "<style scoped>\n",
       "    .dataframe tbody tr th:only-of-type {\n",
       "        vertical-align: middle;\n",
       "    }\n",
       "\n",
       "    .dataframe tbody tr th {\n",
       "        vertical-align: top;\n",
       "    }\n",
       "\n",
       "    .dataframe thead th {\n",
       "        text-align: right;\n",
       "    }\n",
       "</style>\n",
       "<table border=\"1\" class=\"dataframe\">\n",
       "  <thead>\n",
       "    <tr style=\"text-align: right;\">\n",
       "      <th></th>\n",
       "      <th>mean_spectral_rolloff</th>\n",
       "      <th>std_spectral_rolloff</th>\n",
       "      <th>mean_spectral_centroid</th>\n",
       "      <th>std_spectral_centroid</th>\n",
       "      <th>mean_spectral_bandwidth</th>\n",
       "      <th>std_spectral_bandwidth</th>\n",
       "      <th>mean_spectral_flatness</th>\n",
       "      <th>std_spectral_flatness</th>\n",
       "      <th>mean_spectral_contrast</th>\n",
       "      <th>std_spectral_contrast</th>\n",
       "      <th>...</th>\n",
       "      <th>chroma_9_std</th>\n",
       "      <th>chroma_10_mean</th>\n",
       "      <th>chroma_10_std</th>\n",
       "      <th>chroma_11_mean</th>\n",
       "      <th>chroma_11_std</th>\n",
       "      <th>chroma_12_mean</th>\n",
       "      <th>chroma_12_std</th>\n",
       "      <th>chroma_std_mean</th>\n",
       "      <th>chroma_std_std</th>\n",
       "      <th>label</th>\n",
       "    </tr>\n",
       "  </thead>\n",
       "  <tbody>\n",
       "    <tr>\n",
       "      <th>0</th>\n",
       "      <td>3805.839606</td>\n",
       "      <td>949.476395</td>\n",
       "      <td>1784.165850</td>\n",
       "      <td>360.241675</td>\n",
       "      <td>2002.449060</td>\n",
       "      <td>293.057608</td>\n",
       "      <td>0.004498</td>\n",
       "      <td>0.005513</td>\n",
       "      <td>20.526699</td>\n",
       "      <td>8.760242</td>\n",
       "      <td>...</td>\n",
       "      <td>0.016051</td>\n",
       "      <td>0.012161</td>\n",
       "      <td>0.016242</td>\n",
       "      <td>0.029505</td>\n",
       "      <td>0.026990</td>\n",
       "      <td>0.005584</td>\n",
       "      <td>0.009387</td>\n",
       "      <td>0.024978</td>\n",
       "      <td>0.011493</td>\n",
       "      <td>0</td>\n",
       "    </tr>\n",
       "    <tr>\n",
       "      <th>1</th>\n",
       "      <td>3550.522098</td>\n",
       "      <td>1725.657379</td>\n",
       "      <td>1530.176679</td>\n",
       "      <td>613.066125</td>\n",
       "      <td>2039.036516</td>\n",
       "      <td>462.432433</td>\n",
       "      <td>0.002298</td>\n",
       "      <td>0.004852</td>\n",
       "      <td>20.676128</td>\n",
       "      <td>8.237203</td>\n",
       "      <td>...</td>\n",
       "      <td>0.012544</td>\n",
       "      <td>0.011963</td>\n",
       "      <td>0.018590</td>\n",
       "      <td>0.033841</td>\n",
       "      <td>0.034856</td>\n",
       "      <td>0.005236</td>\n",
       "      <td>0.012238</td>\n",
       "      <td>0.039440</td>\n",
       "      <td>0.018062</td>\n",
       "      <td>0</td>\n",
       "    </tr>\n",
       "    <tr>\n",
       "      <th>2</th>\n",
       "      <td>3042.260232</td>\n",
       "      <td>885.457204</td>\n",
       "      <td>1552.811865</td>\n",
       "      <td>395.559911</td>\n",
       "      <td>1747.702312</td>\n",
       "      <td>276.141616</td>\n",
       "      <td>0.002631</td>\n",
       "      <td>0.003345</td>\n",
       "      <td>22.197517</td>\n",
       "      <td>8.725292</td>\n",
       "      <td>...</td>\n",
       "      <td>0.017231</td>\n",
       "      <td>0.018436</td>\n",
       "      <td>0.018744</td>\n",
       "      <td>0.031178</td>\n",
       "      <td>0.034395</td>\n",
       "      <td>0.005757</td>\n",
       "      <td>0.010093</td>\n",
       "      <td>0.021984</td>\n",
       "      <td>0.010099</td>\n",
       "      <td>0</td>\n",
       "    </tr>\n",
       "    <tr>\n",
       "      <th>3</th>\n",
       "      <td>2184.745799</td>\n",
       "      <td>1221.963322</td>\n",
       "      <td>1070.106615</td>\n",
       "      <td>429.366909</td>\n",
       "      <td>1596.412872</td>\n",
       "      <td>407.972419</td>\n",
       "      <td>0.000954</td>\n",
       "      <td>0.001631</td>\n",
       "      <td>21.426268</td>\n",
       "      <td>7.961446</td>\n",
       "      <td>...</td>\n",
       "      <td>0.011256</td>\n",
       "      <td>0.008783</td>\n",
       "      <td>0.009957</td>\n",
       "      <td>0.131948</td>\n",
       "      <td>0.109829</td>\n",
       "      <td>0.002488</td>\n",
       "      <td>0.004752</td>\n",
       "      <td>0.051712</td>\n",
       "      <td>0.022487</td>\n",
       "      <td>0</td>\n",
       "    </tr>\n",
       "    <tr>\n",
       "      <th>4</th>\n",
       "      <td>3579.757627</td>\n",
       "      <td>1254.184130</td>\n",
       "      <td>1835.004266</td>\n",
       "      <td>586.003361</td>\n",
       "      <td>1748.172116</td>\n",
       "      <td>297.397392</td>\n",
       "      <td>0.003238</td>\n",
       "      <td>0.004356</td>\n",
       "      <td>21.466338</td>\n",
       "      <td>7.936384</td>\n",
       "      <td>...</td>\n",
       "      <td>0.028426</td>\n",
       "      <td>0.005691</td>\n",
       "      <td>0.007263</td>\n",
       "      <td>0.009544</td>\n",
       "      <td>0.011316</td>\n",
       "      <td>0.010711</td>\n",
       "      <td>0.020425</td>\n",
       "      <td>0.014912</td>\n",
       "      <td>0.007659</td>\n",
       "      <td>0</td>\n",
       "    </tr>\n",
       "  </tbody>\n",
       "</table>\n",
       "<p>5 rows × 144 columns</p>\n",
       "</div>"
      ],
      "text/plain": [
       "   mean_spectral_rolloff  std_spectral_rolloff  mean_spectral_centroid  \\\n",
       "0            3805.839606            949.476395             1784.165850   \n",
       "1            3550.522098           1725.657379             1530.176679   \n",
       "2            3042.260232            885.457204             1552.811865   \n",
       "3            2184.745799           1221.963322             1070.106615   \n",
       "4            3579.757627           1254.184130             1835.004266   \n",
       "\n",
       "   std_spectral_centroid  mean_spectral_bandwidth  std_spectral_bandwidth  \\\n",
       "0             360.241675              2002.449060              293.057608   \n",
       "1             613.066125              2039.036516              462.432433   \n",
       "2             395.559911              1747.702312              276.141616   \n",
       "3             429.366909              1596.412872              407.972419   \n",
       "4             586.003361              1748.172116              297.397392   \n",
       "\n",
       "   mean_spectral_flatness  std_spectral_flatness  mean_spectral_contrast  \\\n",
       "0                0.004498               0.005513               20.526699   \n",
       "1                0.002298               0.004852               20.676128   \n",
       "2                0.002631               0.003345               22.197517   \n",
       "3                0.000954               0.001631               21.426268   \n",
       "4                0.003238               0.004356               21.466338   \n",
       "\n",
       "   std_spectral_contrast  ...  chroma_9_std  chroma_10_mean  chroma_10_std  \\\n",
       "0               8.760242  ...      0.016051        0.012161       0.016242   \n",
       "1               8.237203  ...      0.012544        0.011963       0.018590   \n",
       "2               8.725292  ...      0.017231        0.018436       0.018744   \n",
       "3               7.961446  ...      0.011256        0.008783       0.009957   \n",
       "4               7.936384  ...      0.028426        0.005691       0.007263   \n",
       "\n",
       "   chroma_11_mean  chroma_11_std  chroma_12_mean  chroma_12_std  \\\n",
       "0        0.029505       0.026990        0.005584       0.009387   \n",
       "1        0.033841       0.034856        0.005236       0.012238   \n",
       "2        0.031178       0.034395        0.005757       0.010093   \n",
       "3        0.131948       0.109829        0.002488       0.004752   \n",
       "4        0.009544       0.011316        0.010711       0.020425   \n",
       "\n",
       "   chroma_std_mean  chroma_std_std  label  \n",
       "0         0.024978        0.011493      0  \n",
       "1         0.039440        0.018062      0  \n",
       "2         0.021984        0.010099      0  \n",
       "3         0.051712        0.022487      0  \n",
       "4         0.014912        0.007659      0  \n",
       "\n",
       "[5 rows x 144 columns]"
      ]
     },
     "execution_count": 3,
     "metadata": {},
     "output_type": "execute_result"
    }
   ],
   "source": [
    "train.drop(['song_name'], axis=1, inplace=True)\n",
    "train.head()"
   ]
  },
  {
   "cell_type": "code",
   "execution_count": 4,
   "id": "00ee5f6c-0092-4f2f-b1bb-024664a9eae4",
   "metadata": {},
   "outputs": [
    {
     "data": {
      "text/plain": [
       "array([0, 1, 2, 3, 4, 5, 6, 7, 8, 9], dtype=int64)"
      ]
     },
     "execution_count": 4,
     "metadata": {},
     "output_type": "execute_result"
    }
   ],
   "source": [
    "# check to see if all labels are ints\n",
    "train['label'].unique()"
   ]
  },
  {
   "cell_type": "code",
   "execution_count": 5,
   "id": "570237d1-bf20-4053-895e-6404bf6e664e",
   "metadata": {},
   "outputs": [
    {
     "data": {
      "text/html": [
       "<div>\n",
       "<style scoped>\n",
       "    .dataframe tbody tr th:only-of-type {\n",
       "        vertical-align: middle;\n",
       "    }\n",
       "\n",
       "    .dataframe tbody tr th {\n",
       "        vertical-align: top;\n",
       "    }\n",
       "\n",
       "    .dataframe thead th {\n",
       "        text-align: right;\n",
       "    }\n",
       "</style>\n",
       "<table border=\"1\" class=\"dataframe\">\n",
       "  <thead>\n",
       "    <tr style=\"text-align: right;\">\n",
       "      <th></th>\n",
       "      <th>mean_spectral_rolloff</th>\n",
       "      <th>std_spectral_rolloff</th>\n",
       "      <th>mean_spectral_centroid</th>\n",
       "      <th>std_spectral_centroid</th>\n",
       "      <th>mean_spectral_bandwidth</th>\n",
       "      <th>std_spectral_bandwidth</th>\n",
       "      <th>mean_spectral_flatness</th>\n",
       "      <th>std_spectral_flatness</th>\n",
       "      <th>mean_spectral_contrast</th>\n",
       "      <th>std_spectral_contrast</th>\n",
       "      <th>...</th>\n",
       "      <th>chroma_9_mean</th>\n",
       "      <th>chroma_9_std</th>\n",
       "      <th>chroma_10_mean</th>\n",
       "      <th>chroma_10_std</th>\n",
       "      <th>chroma_11_mean</th>\n",
       "      <th>chroma_11_std</th>\n",
       "      <th>chroma_12_mean</th>\n",
       "      <th>chroma_12_std</th>\n",
       "      <th>chroma_std_mean</th>\n",
       "      <th>chroma_std_std</th>\n",
       "    </tr>\n",
       "  </thead>\n",
       "  <tbody>\n",
       "    <tr>\n",
       "      <th>0</th>\n",
       "      <td>3805.839606</td>\n",
       "      <td>949.476395</td>\n",
       "      <td>1784.165850</td>\n",
       "      <td>360.241675</td>\n",
       "      <td>2002.449060</td>\n",
       "      <td>293.057608</td>\n",
       "      <td>0.004498</td>\n",
       "      <td>0.005513</td>\n",
       "      <td>20.526699</td>\n",
       "      <td>8.760242</td>\n",
       "      <td>...</td>\n",
       "      <td>0.007361</td>\n",
       "      <td>0.016051</td>\n",
       "      <td>0.012161</td>\n",
       "      <td>0.016242</td>\n",
       "      <td>0.029505</td>\n",
       "      <td>0.026990</td>\n",
       "      <td>0.005584</td>\n",
       "      <td>0.009387</td>\n",
       "      <td>0.024978</td>\n",
       "      <td>0.011493</td>\n",
       "    </tr>\n",
       "    <tr>\n",
       "      <th>1</th>\n",
       "      <td>3550.522098</td>\n",
       "      <td>1725.657379</td>\n",
       "      <td>1530.176679</td>\n",
       "      <td>613.066125</td>\n",
       "      <td>2039.036516</td>\n",
       "      <td>462.432433</td>\n",
       "      <td>0.002298</td>\n",
       "      <td>0.004852</td>\n",
       "      <td>20.676128</td>\n",
       "      <td>8.237203</td>\n",
       "      <td>...</td>\n",
       "      <td>0.004094</td>\n",
       "      <td>0.012544</td>\n",
       "      <td>0.011963</td>\n",
       "      <td>0.018590</td>\n",
       "      <td>0.033841</td>\n",
       "      <td>0.034856</td>\n",
       "      <td>0.005236</td>\n",
       "      <td>0.012238</td>\n",
       "      <td>0.039440</td>\n",
       "      <td>0.018062</td>\n",
       "    </tr>\n",
       "    <tr>\n",
       "      <th>2</th>\n",
       "      <td>3042.260232</td>\n",
       "      <td>885.457204</td>\n",
       "      <td>1552.811865</td>\n",
       "      <td>395.559911</td>\n",
       "      <td>1747.702312</td>\n",
       "      <td>276.141616</td>\n",
       "      <td>0.002631</td>\n",
       "      <td>0.003345</td>\n",
       "      <td>22.197517</td>\n",
       "      <td>8.725292</td>\n",
       "      <td>...</td>\n",
       "      <td>0.010910</td>\n",
       "      <td>0.017231</td>\n",
       "      <td>0.018436</td>\n",
       "      <td>0.018744</td>\n",
       "      <td>0.031178</td>\n",
       "      <td>0.034395</td>\n",
       "      <td>0.005757</td>\n",
       "      <td>0.010093</td>\n",
       "      <td>0.021984</td>\n",
       "      <td>0.010099</td>\n",
       "    </tr>\n",
       "    <tr>\n",
       "      <th>3</th>\n",
       "      <td>2184.745799</td>\n",
       "      <td>1221.963322</td>\n",
       "      <td>1070.106615</td>\n",
       "      <td>429.366909</td>\n",
       "      <td>1596.412872</td>\n",
       "      <td>407.972419</td>\n",
       "      <td>0.000954</td>\n",
       "      <td>0.001631</td>\n",
       "      <td>21.426268</td>\n",
       "      <td>7.961446</td>\n",
       "      <td>...</td>\n",
       "      <td>0.007008</td>\n",
       "      <td>0.011256</td>\n",
       "      <td>0.008783</td>\n",
       "      <td>0.009957</td>\n",
       "      <td>0.131948</td>\n",
       "      <td>0.109829</td>\n",
       "      <td>0.002488</td>\n",
       "      <td>0.004752</td>\n",
       "      <td>0.051712</td>\n",
       "      <td>0.022487</td>\n",
       "    </tr>\n",
       "    <tr>\n",
       "      <th>4</th>\n",
       "      <td>3579.757627</td>\n",
       "      <td>1254.184130</td>\n",
       "      <td>1835.004266</td>\n",
       "      <td>586.003361</td>\n",
       "      <td>1748.172116</td>\n",
       "      <td>297.397392</td>\n",
       "      <td>0.003238</td>\n",
       "      <td>0.004356</td>\n",
       "      <td>21.466338</td>\n",
       "      <td>7.936384</td>\n",
       "      <td>...</td>\n",
       "      <td>0.023868</td>\n",
       "      <td>0.028426</td>\n",
       "      <td>0.005691</td>\n",
       "      <td>0.007263</td>\n",
       "      <td>0.009544</td>\n",
       "      <td>0.011316</td>\n",
       "      <td>0.010711</td>\n",
       "      <td>0.020425</td>\n",
       "      <td>0.014912</td>\n",
       "      <td>0.007659</td>\n",
       "    </tr>\n",
       "  </tbody>\n",
       "</table>\n",
       "<p>5 rows × 143 columns</p>\n",
       "</div>"
      ],
      "text/plain": [
       "   mean_spectral_rolloff  std_spectral_rolloff  mean_spectral_centroid  \\\n",
       "0            3805.839606            949.476395             1784.165850   \n",
       "1            3550.522098           1725.657379             1530.176679   \n",
       "2            3042.260232            885.457204             1552.811865   \n",
       "3            2184.745799           1221.963322             1070.106615   \n",
       "4            3579.757627           1254.184130             1835.004266   \n",
       "\n",
       "   std_spectral_centroid  mean_spectral_bandwidth  std_spectral_bandwidth  \\\n",
       "0             360.241675              2002.449060              293.057608   \n",
       "1             613.066125              2039.036516              462.432433   \n",
       "2             395.559911              1747.702312              276.141616   \n",
       "3             429.366909              1596.412872              407.972419   \n",
       "4             586.003361              1748.172116              297.397392   \n",
       "\n",
       "   mean_spectral_flatness  std_spectral_flatness  mean_spectral_contrast  \\\n",
       "0                0.004498               0.005513               20.526699   \n",
       "1                0.002298               0.004852               20.676128   \n",
       "2                0.002631               0.003345               22.197517   \n",
       "3                0.000954               0.001631               21.426268   \n",
       "4                0.003238               0.004356               21.466338   \n",
       "\n",
       "   std_spectral_contrast  ...  chroma_9_mean  chroma_9_std  chroma_10_mean  \\\n",
       "0               8.760242  ...       0.007361      0.016051        0.012161   \n",
       "1               8.237203  ...       0.004094      0.012544        0.011963   \n",
       "2               8.725292  ...       0.010910      0.017231        0.018436   \n",
       "3               7.961446  ...       0.007008      0.011256        0.008783   \n",
       "4               7.936384  ...       0.023868      0.028426        0.005691   \n",
       "\n",
       "   chroma_10_std  chroma_11_mean  chroma_11_std  chroma_12_mean  \\\n",
       "0       0.016242        0.029505       0.026990        0.005584   \n",
       "1       0.018590        0.033841       0.034856        0.005236   \n",
       "2       0.018744        0.031178       0.034395        0.005757   \n",
       "3       0.009957        0.131948       0.109829        0.002488   \n",
       "4       0.007263        0.009544       0.011316        0.010711   \n",
       "\n",
       "   chroma_12_std  chroma_std_mean  chroma_std_std  \n",
       "0       0.009387         0.024978        0.011493  \n",
       "1       0.012238         0.039440        0.018062  \n",
       "2       0.010093         0.021984        0.010099  \n",
       "3       0.004752         0.051712        0.022487  \n",
       "4       0.020425         0.014912        0.007659  \n",
       "\n",
       "[5 rows x 143 columns]"
      ]
     },
     "execution_count": 5,
     "metadata": {},
     "output_type": "execute_result"
    }
   ],
   "source": [
    "X.drop(['song_name'], axis=1, inplace=True)\n",
    "X.drop(['label'], axis=1, inplace=True)\n",
    "X.head()"
   ]
  },
  {
   "cell_type": "code",
   "execution_count": 6,
   "id": "5595352e-f7ec-4cc8-8945-81a60a770899",
   "metadata": {},
   "outputs": [
    {
     "data": {
      "text/plain": [
       "0    0\n",
       "1    0\n",
       "2    0\n",
       "3    0\n",
       "4    0\n",
       "Name: label, dtype: int64"
      ]
     },
     "execution_count": 6,
     "metadata": {},
     "output_type": "execute_result"
    }
   ],
   "source": [
    "y = train['label'].copy()\n",
    "y.head()"
   ]
  },
  {
   "cell_type": "code",
   "execution_count": 7,
   "id": "8982b792-71a9-449c-8df5-517e7eb8c3f9",
   "metadata": {},
   "outputs": [],
   "source": [
    "# Normalization of Data\n",
    "scaler = StandardScaler()\n",
    "X = scaler.fit_transform(np.array(X.iloc[:, :-1], dtype = float))\n"
   ]
  },
  {
   "cell_type": "code",
   "execution_count": 8,
   "id": "6e514a73-3111-4fae-9481-9ee38c64cf8d",
   "metadata": {},
   "outputs": [
    {
     "name": "stdout",
     "output_type": "stream",
     "text": [
      "(500, 142)\n",
      "(500,)\n",
      "(500, 142)\n",
      "(500,)\n"
     ]
    },
    {
     "data": {
      "text/plain": [
       "(None, None)"
      ]
     },
     "execution_count": 8,
     "metadata": {},
     "output_type": "execute_result"
    }
   ],
   "source": [
    "# Split Data\n",
    "X_train, X_test, y_train, y_test = train_test_split(X, y, train_size=0.5, random_state=15, stratify=y,  shuffle=True)\n",
    "\n",
    "# X_train, X_rem, y_train, y_rem = train_test_split(X,y, train_size=0.8)\n",
    "\n",
    "# Now since we want the valid and test size to be equal (10% each of overall data). \n",
    "# we have to define valid_size=0.5 (that is 50% of remaining data)\n",
    "# test_size = 0.5\n",
    "# X_valid, X_test, y_valid, y_test = train_test_split(X_test, y_test, test_size=0.5, shuffle=True)\n",
    "\n",
    "print(X_train.shape), print(y_train.shape)\n",
    "# print(X_valid.shape), print(y_valid.shape)\n",
    "print(X_test.shape), print(y_test.shape)"
   ]
  },
  {
   "cell_type": "code",
   "execution_count": 9,
   "id": "18d7cba6-cbf4-46be-803d-8bb5e3c27451",
   "metadata": {},
   "outputs": [],
   "source": [
    "#train, validate, test = \\\n",
    "#             np.split(train.sample(frac=1, random_state=42), \n",
    "#                      [int(.6*len(df)), int(.8*len(df))])"
   ]
  },
  {
   "cell_type": "code",
   "execution_count": 10,
   "id": "747b2f60-7e61-4a60-a54b-e8351c653788",
   "metadata": {},
   "outputs": [
    {
     "data": {
      "text/plain": [
       "107    1\n",
       "242    2\n",
       "466    4\n",
       "207    2\n",
       "409    4\n",
       "Name: label, dtype: int64"
      ]
     },
     "execution_count": 10,
     "metadata": {},
     "output_type": "execute_result"
    }
   ],
   "source": [
    "y_train.head()"
   ]
  },
  {
   "cell_type": "code",
   "execution_count": 11,
   "id": "b5058e49-e49a-4f6a-b6e6-ce054ef50ad2",
   "metadata": {},
   "outputs": [],
   "source": [
    "scaler = MinMaxScaler()\n",
    "X_train = scaler.fit_transform(X_train)\n",
    "X_test = scaler.transform(X_test)"
   ]
  },
  {
   "cell_type": "code",
   "execution_count": 12,
   "id": "b78e8da4-776c-486e-b776-218ab57d93b7",
   "metadata": {},
   "outputs": [],
   "source": [
    "# Quantile Transformer reduces accuracy\n",
    "#Conversion from a col vector to a 1D array\n",
    "#y_test=np.ravel(y_test) \n",
    "#y_train=np.ravel(y_train) \n",
    "\n",
    "#qt = QuantileTransformer(n_quantiles=50, random_state=0)         # This section normalize the data csv\n",
    "\n",
    "#X_train=qt.fit_transform(X_train)                                 \n",
    "#X_train=pd.DataFrame(X_train) \n",
    "\n",
    "#X_test=qt.fit_transform(X_test)                                 \n",
    "#X_test=pd.DataFrame(X_test) \n"
   ]
  },
  {
   "cell_type": "code",
   "execution_count": 13,
   "id": "7785d042-1ed0-4945-9e95-b2a8fad319e5",
   "metadata": {},
   "outputs": [
    {
     "data": {
      "text/plain": [
       "(500,)"
      ]
     },
     "execution_count": 13,
     "metadata": {},
     "output_type": "execute_result"
    }
   ],
   "source": [
    "#y_test.head()\n",
    "y_test.shape"
   ]
  },
  {
   "cell_type": "code",
   "execution_count": 14,
   "id": "3542c9a3-9655-4dce-a01c-a54cfb28b25c",
   "metadata": {},
   "outputs": [
    {
     "data": {
      "text/plain": [
       "GridSearchCV(cv=10, estimator=SVC(),\n",
       "             param_grid=[{'C': [1, 10, 100, 1000], 'kernel': ['linear']},\n",
       "                         {'C': [1, 10, 100, 1000], 'gamma': [0.001, 0.0001],\n",
       "                          'kernel': ['rbf']}])"
      ]
     },
     "execution_count": 14,
     "metadata": {},
     "output_type": "execute_result"
    }
   ],
   "source": [
    "# C: how much you want to avoid misclassifying each training example.\n",
    "# # Gamma: how far the influence of a single training example reaches\n",
    "\n",
    "parameters = {'kernel':('linear', 'rbf'),\n",
    "              'C':[1, 10, 20]\n",
    "             }\n",
    "\n",
    "param_grid = [\n",
    "  {'C': [1, 10, 100, 1000], 'kernel': ['linear']},\n",
    "  {'C': [1, 10, 100, 1000], 'gamma': [0.001, 0.0001], 'kernel': ['rbf']},\n",
    " ]\n",
    "\n",
    "cls=SVC()\n",
    "# model.fit(X_valid, y_valid, groups=None)\n",
    "model = GridSearchCV(cls, param_grid, cv=10)\n",
    "model.fit(X_train,y_train,groups=None)\n"
   ]
  },
  {
   "cell_type": "code",
   "execution_count": 15,
   "id": "df341663-f087-4387-b4e4-43a1d420705d",
   "metadata": {},
   "outputs": [],
   "source": [
    "# scores = cross_val_score(cls, X, y, cv=100, scoring='f1_macro')\n",
    "# scores"
   ]
  },
  {
   "cell_type": "code",
   "execution_count": 16,
   "id": "1053ef49-5241-479c-844b-28b2f1452fb6",
   "metadata": {},
   "outputs": [],
   "source": [
    "# print(\"%0.2f accuracy with a standard deviation of %0.2f\" % (scores.mean(), scores.std()))"
   ]
  },
  {
   "cell_type": "code",
   "execution_count": 17,
   "id": "3bfb9221-d77c-4d2b-b575-3e2744bfcf2f",
   "metadata": {},
   "outputs": [
    {
     "data": {
      "text/plain": [
       "{'fit_time': array([0.05983591, 0.05485296, 0.05485415, 0.05584955, 0.05285764,\n",
       "        0.05485392, 0.05485415, 0.05485344, 0.05484676, 0.0548532 ]),\n",
       " 'score_time': array([0.01495981, 0.0139637 , 0.01496029, 0.01398063, 0.01496077,\n",
       "        0.01595688, 0.01495886, 0.01396823, 0.01396346, 0.01396298]),\n",
       " 'test_prec_macro': array([0.66452381, 0.67238095, 0.84692308, 0.76101265, 0.6703108 ,\n",
       "        0.70440115, 0.71038295, 0.84575928, 0.6593007 , 0.81667388]),\n",
       " 'test_recall_score': array([0.65, 0.69, 0.84, 0.74, 0.7 , 0.7 , 0.67, 0.82, 0.69, 0.81]),\n",
       " 'test_f1_score': array([0.63838261, 0.66743597, 0.83728613, 0.73825671, 0.67414755,\n",
       "        0.69298648, 0.6718977 , 0.82162167, 0.6525637 , 0.8093989 ]),\n",
       " 'test_precision_score': array([0.66452381, 0.67238095, 0.84692308, 0.76101265, 0.6703108 ,\n",
       "        0.70440115, 0.71038295, 0.84575928, 0.6593007 , 0.81667388]),\n",
       " 'test_accuracy_score': array([0.65, 0.69, 0.84, 0.74, 0.7 , 0.7 , 0.67, 0.82, 0.69, 0.81])}"
      ]
     },
     "execution_count": 17,
     "metadata": {},
     "output_type": "execute_result"
    }
   ],
   "source": [
    "# score=['accuracy', 'f1', 'precision', 'recall']\n",
    "scoring = {'prec_macro': 'precision_macro', 'recall_score': make_scorer(recall_score, average='weighted'), 'f1_score': make_scorer(f1_score, average='weighted'), \n",
    "           'precision_score': make_scorer(precision_score, average='weighted'), 'accuracy_score': make_scorer(accuracy_score)}\n",
    "scores = cross_validate(cls, X, y, scoring=scoring, cv=10)\n",
    "sorted(scores.keys())\n",
    "scores"
   ]
  },
  {
   "cell_type": "code",
   "execution_count": 18,
   "id": "9bef6000-4884-4366-a5c6-c5d181e6ed68",
   "metadata": {},
   "outputs": [],
   "source": [
    "# Testing \n",
    "\n",
    "test_pred = model.predict(X_test)\n",
    "\n",
    "np.savetxt(\"accuracy_solution.csv\", \n",
    "           np.dstack((np.arange(1, test_pred.size+1),test_pred))[0],\n",
    "           delimiter=',', comments=\"\", fmt='%i,%i',\n",
    "           header=\"Sample_id,Sample_label\")"
   ]
  },
  {
   "cell_type": "code",
   "execution_count": 20,
   "id": "00b04afa-5709-46dd-8f75-649ad6307d48",
   "metadata": {},
   "outputs": [
    {
     "name": "stdout",
     "output_type": "stream",
     "text": [
      "Accuracy :  0.742\n",
      "Balanced Accuracy :  0.742\n",
      "Matthews Correlation Coefficient:  0.7143181839741628\n",
      "F1 Score:  0.7424076095906886\n",
      "Precision Score:  0.7511060285008366\n"
     ]
    },
    {
     "data": {
      "image/png": "[encoded data removed]",
      "text/plain": [
       "<Figure size 432x288 with 2 Axes>"
      ]
     },
     "metadata": {
      "needs_background": "light"
     },
     "output_type": "display_data"
    },
    {
     "data": {
      "text/plain": [
       "<Figure size 432x288 with 0 Axes>"
      ]
     },
     "metadata": {},
     "output_type": "display_data"
    }
   ],
   "source": [
    "print(\"Accuracy : \", accuracy_score(y_test, test_pred))\n",
    "print(\"Balanced Accuracy : \", balanced_accuracy_score(y_test, test_pred))\n",
    "print(\"Matthews Correlation Coefficient: \", matthews_corrcoef(y_test, test_pred))\n",
    "print(\"F1 Score: \", f1_score(y_test, test_pred, average = 'weighted'))\n",
    "print(\"Precision Score: \", precision_score(y_test, test_pred, average = 'weighted'))\n",
    "\n",
    "\n",
    "conf_matrix = confusion_matrix(y_test, test_pred)\n",
    "#print('\\033[1m' + \"\\n Table 1: Confusion Matrix of Test Data \\n\\n\" + '\\033[0m', conf_matrix)\n",
    "\n",
    "df_cm = pd.DataFrame(conf_matrix, index = [i for i in range(10)],\n",
    "                columns = [i for i in range(10)])\n",
    "\n",
    "plt.title('Confusion Matrix SVM - Test Data')\n",
    "sn.heatmap(df_cm, annot=True, cmap=\"YlGnBu\")\n",
    "plt.savefig('./confusion_matrix_svm_test.png')\n",
    "plt.show()\n",
    "plt.clf()"
   ]
  },
  {
   "cell_type": "code",
   "execution_count": 21,
   "id": "1ab835b7-daf5-4dc0-a1b8-05d3e7bbd6cb",
   "metadata": {},
   "outputs": [
    {
     "name": "stdout",
     "output_type": "stream",
     "text": [
      "              precision    recall  f1-score   support\n",
      "\n",
      "           0      0.737     0.840     0.785        50\n",
      "           1      0.958     0.920     0.939        50\n",
      "           2      0.607     0.740     0.667        50\n",
      "           3      0.548     0.680     0.607        50\n",
      "           4      0.800     0.640     0.711        50\n",
      "           5      0.820     0.820     0.820        50\n",
      "           6      0.953     0.820     0.882        50\n",
      "           7      0.741     0.800     0.769        50\n",
      "           8      0.783     0.720     0.750        50\n",
      "           9      0.564     0.440     0.494        50\n",
      "\n",
      "    accuracy                          0.742       500\n",
      "   macro avg      0.751     0.742     0.742       500\n",
      "weighted avg      0.751     0.742     0.742       500\n",
      "\n"
     ]
    }
   ],
   "source": [
    "print(classification_report(y_test, test_pred, digits=3))"
   ]
  },
  {
   "cell_type": "code",
   "execution_count": null,
   "id": "9d2b9ce7-6f19-49f1-846b-e4d5bd9cd7e4",
   "metadata": {},
   "outputs": [],
   "source": []
  },
  {
   "cell_type": "code",
   "execution_count": null,
   "id": "9b747a4c-9e42-4ea0-b451-f6fc3a6caa2d",
   "metadata": {},
   "outputs": [],
   "source": []
  }
 ],
 "metadata": {
  "kernelspec": {
   "display_name": "Python 3 (ipykernel)",
   "language": "python",
   "name": "python3"
  },
  "language_info": {
   "codemirror_mode": {
    "name": "ipython",
    "version": 3
   },
   "file_extension": ".py",
   "mimetype": "text/x-python",
   "name": "python",
   "nbconvert_exporter": "python",
   "pygments_lexer": "ipython3",
   "version": "3.9.6"
  }
 },
 "nbformat": 4,
 "nbformat_minor": 5
}
