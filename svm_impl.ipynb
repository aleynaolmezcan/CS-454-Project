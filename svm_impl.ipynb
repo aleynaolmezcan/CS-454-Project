{
 "cells": [
  {
   "cell_type": "code",
   "execution_count": 431,
   "id": "036c1d18-f69f-4f10-9351-6123e8e71967",
   "metadata": {},
   "outputs": [],
   "source": [
    "import pandas as pd\n",
    "from pandas import DataFrame\n",
    "import numpy as np\n",
    "import seaborn as sn\n",
    "import matplotlib.pyplot as plt\n",
    "from sklearn.preprocessing import StandardScaler, MinMaxScaler, QuantileTransformer\n",
    "\n",
    "from sklearn.model_selection import train_test_split\n",
    "from sklearn.svm import SVC   \n",
    "from sklearn.model_selection import GridSearchCV                 \n",
    "from sklearn.metrics import accuracy_score, balanced_accuracy_score, matthews_corrcoef, confusion_matrix, classification_report\n"
   ]
  },
  {
   "cell_type": "code",
   "execution_count": 432,
   "id": "15b020d9-5909-48d7-a324-3f19f125044e",
   "metadata": {},
   "outputs": [],
   "source": [
    "# test = pd.read_csv('testing.csv', header=None, skiprows=1)\n",
    "\n",
    "train = pd.read_csv('./feature_extraction/training.csv')\n",
    "validation = pd.read_csv('./feature_extraction/validation.csv', header=None, skiprows=1)\n",
    "X = pd.read_csv('./feature_extraction/training.csv')\n"
   ]
  },
  {
   "cell_type": "code",
   "execution_count": 433,
   "id": "1eb0d573-0973-43e9-a2c8-c7d70dfdcda8",
   "metadata": {},
   "outputs": [
    {
     "data": {
      "text/html": [
       "<div>\n",
       "<style scoped>\n",
       "    .dataframe tbody tr th:only-of-type {\n",
       "        vertical-align: middle;\n",
       "    }\n",
       "\n",
       "    .dataframe tbody tr th {\n",
       "        vertical-align: top;\n",
       "    }\n",
       "\n",
       "    .dataframe thead th {\n",
       "        text-align: right;\n",
       "    }\n",
       "</style>\n",
       "<table border=\"1\" class=\"dataframe\">\n",
       "  <thead>\n",
       "    <tr style=\"text-align: right;\">\n",
       "      <th></th>\n",
       "      <th>mean_spectral_rolloff</th>\n",
       "      <th>std_spectral_rolloff</th>\n",
       "      <th>mean_spectral_centroid</th>\n",
       "      <th>std_spectral_centroid</th>\n",
       "      <th>mean_spectral_bandwidth</th>\n",
       "      <th>std_spectral_bandwidth</th>\n",
       "      <th>mean_spectral_flatness</th>\n",
       "      <th>std_spectral_flatness</th>\n",
       "      <th>mean_spectral_contrast</th>\n",
       "      <th>std_spectral_contrast</th>\n",
       "      <th>...</th>\n",
       "      <th>chroma_9_std</th>\n",
       "      <th>chroma_10_mean</th>\n",
       "      <th>chroma_10_std</th>\n",
       "      <th>chroma_11_mean</th>\n",
       "      <th>chroma_11_std</th>\n",
       "      <th>chroma_12_mean</th>\n",
       "      <th>chroma_12_std</th>\n",
       "      <th>chroma_std_mean</th>\n",
       "      <th>chroma_std_std</th>\n",
       "      <th>label</th>\n",
       "    </tr>\n",
       "  </thead>\n",
       "  <tbody>\n",
       "    <tr>\n",
       "      <th>0</th>\n",
       "      <td>3042.260232</td>\n",
       "      <td>885.457204</td>\n",
       "      <td>1552.811865</td>\n",
       "      <td>395.559911</td>\n",
       "      <td>1747.702312</td>\n",
       "      <td>276.141616</td>\n",
       "      <td>0.002631</td>\n",
       "      <td>0.003345</td>\n",
       "      <td>22.197517</td>\n",
       "      <td>8.725292</td>\n",
       "      <td>...</td>\n",
       "      <td>0.017231</td>\n",
       "      <td>0.018436</td>\n",
       "      <td>0.018744</td>\n",
       "      <td>0.031178</td>\n",
       "      <td>0.034395</td>\n",
       "      <td>0.005757</td>\n",
       "      <td>0.010093</td>\n",
       "      <td>0.021984</td>\n",
       "      <td>0.010099</td>\n",
       "      <td>0</td>\n",
       "    </tr>\n",
       "    <tr>\n",
       "      <th>1</th>\n",
       "      <td>3579.757627</td>\n",
       "      <td>1254.184130</td>\n",
       "      <td>1835.004266</td>\n",
       "      <td>586.003361</td>\n",
       "      <td>1748.172116</td>\n",
       "      <td>297.397392</td>\n",
       "      <td>0.003238</td>\n",
       "      <td>0.004356</td>\n",
       "      <td>21.466338</td>\n",
       "      <td>7.936384</td>\n",
       "      <td>...</td>\n",
       "      <td>0.028426</td>\n",
       "      <td>0.005691</td>\n",
       "      <td>0.007263</td>\n",
       "      <td>0.009544</td>\n",
       "      <td>0.011316</td>\n",
       "      <td>0.010711</td>\n",
       "      <td>0.020425</td>\n",
       "      <td>0.014912</td>\n",
       "      <td>0.007659</td>\n",
       "      <td>0</td>\n",
       "    </tr>\n",
       "    <tr>\n",
       "      <th>2</th>\n",
       "      <td>3782.316288</td>\n",
       "      <td>1123.795795</td>\n",
       "      <td>1719.368948</td>\n",
       "      <td>404.082721</td>\n",
       "      <td>2031.740381</td>\n",
       "      <td>324.873388</td>\n",
       "      <td>0.002594</td>\n",
       "      <td>0.003045</td>\n",
       "      <td>22.380886</td>\n",
       "      <td>9.445157</td>\n",
       "      <td>...</td>\n",
       "      <td>0.010903</td>\n",
       "      <td>0.015983</td>\n",
       "      <td>0.017607</td>\n",
       "      <td>0.086040</td>\n",
       "      <td>0.074920</td>\n",
       "      <td>0.003224</td>\n",
       "      <td>0.007791</td>\n",
       "      <td>0.041517</td>\n",
       "      <td>0.020867</td>\n",
       "      <td>0</td>\n",
       "    </tr>\n",
       "    <tr>\n",
       "      <th>3</th>\n",
       "      <td>3943.490565</td>\n",
       "      <td>1169.460660</td>\n",
       "      <td>1817.150863</td>\n",
       "      <td>546.110008</td>\n",
       "      <td>1973.773306</td>\n",
       "      <td>337.742672</td>\n",
       "      <td>0.002708</td>\n",
       "      <td>0.003212</td>\n",
       "      <td>21.161950</td>\n",
       "      <td>7.956338</td>\n",
       "      <td>...</td>\n",
       "      <td>0.020149</td>\n",
       "      <td>0.010181</td>\n",
       "      <td>0.017838</td>\n",
       "      <td>0.035706</td>\n",
       "      <td>0.042762</td>\n",
       "      <td>0.011003</td>\n",
       "      <td>0.019487</td>\n",
       "      <td>0.028602</td>\n",
       "      <td>0.013036</td>\n",
       "      <td>0</td>\n",
       "    </tr>\n",
       "    <tr>\n",
       "      <th>4</th>\n",
       "      <td>2738.638738</td>\n",
       "      <td>976.165389</td>\n",
       "      <td>1360.641197</td>\n",
       "      <td>507.016163</td>\n",
       "      <td>1567.565225</td>\n",
       "      <td>212.688766</td>\n",
       "      <td>0.000767</td>\n",
       "      <td>0.001077</td>\n",
       "      <td>22.135716</td>\n",
       "      <td>6.739982</td>\n",
       "      <td>...</td>\n",
       "      <td>0.018076</td>\n",
       "      <td>0.013796</td>\n",
       "      <td>0.023146</td>\n",
       "      <td>0.013583</td>\n",
       "      <td>0.015784</td>\n",
       "      <td>0.002274</td>\n",
       "      <td>0.005079</td>\n",
       "      <td>0.038896</td>\n",
       "      <td>0.020987</td>\n",
       "      <td>0</td>\n",
       "    </tr>\n",
       "  </tbody>\n",
       "</table>\n",
       "<p>5 rows × 144 columns</p>\n",
       "</div>"
      ],
      "text/plain": [
       "   mean_spectral_rolloff  std_spectral_rolloff  mean_spectral_centroid  \\\n",
       "0            3042.260232            885.457204             1552.811865   \n",
       "1            3579.757627           1254.184130             1835.004266   \n",
       "2            3782.316288           1123.795795             1719.368948   \n",
       "3            3943.490565           1169.460660             1817.150863   \n",
       "4            2738.638738            976.165389             1360.641197   \n",
       "\n",
       "   std_spectral_centroid  mean_spectral_bandwidth  std_spectral_bandwidth  \\\n",
       "0             395.559911              1747.702312              276.141616   \n",
       "1             586.003361              1748.172116              297.397392   \n",
       "2             404.082721              2031.740381              324.873388   \n",
       "3             546.110008              1973.773306              337.742672   \n",
       "4             507.016163              1567.565225              212.688766   \n",
       "\n",
       "   mean_spectral_flatness  std_spectral_flatness  mean_spectral_contrast  \\\n",
       "0                0.002631               0.003345               22.197517   \n",
       "1                0.003238               0.004356               21.466338   \n",
       "2                0.002594               0.003045               22.380886   \n",
       "3                0.002708               0.003212               21.161950   \n",
       "4                0.000767               0.001077               22.135716   \n",
       "\n",
       "   std_spectral_contrast  ...  chroma_9_std  chroma_10_mean  chroma_10_std  \\\n",
       "0               8.725292  ...      0.017231        0.018436       0.018744   \n",
       "1               7.936384  ...      0.028426        0.005691       0.007263   \n",
       "2               9.445157  ...      0.010903        0.015983       0.017607   \n",
       "3               7.956338  ...      0.020149        0.010181       0.017838   \n",
       "4               6.739982  ...      0.018076        0.013796       0.023146   \n",
       "\n",
       "   chroma_11_mean  chroma_11_std  chroma_12_mean  chroma_12_std  \\\n",
       "0        0.031178       0.034395        0.005757       0.010093   \n",
       "1        0.009544       0.011316        0.010711       0.020425   \n",
       "2        0.086040       0.074920        0.003224       0.007791   \n",
       "3        0.035706       0.042762        0.011003       0.019487   \n",
       "4        0.013583       0.015784        0.002274       0.005079   \n",
       "\n",
       "   chroma_std_mean  chroma_std_std  label  \n",
       "0         0.021984        0.010099      0  \n",
       "1         0.014912        0.007659      0  \n",
       "2         0.041517        0.020867      0  \n",
       "3         0.028602        0.013036      0  \n",
       "4         0.038896        0.020987      0  \n",
       "\n",
       "[5 rows x 144 columns]"
      ]
     },
     "execution_count": 433,
     "metadata": {},
     "output_type": "execute_result"
    }
   ],
   "source": [
    "train.drop(['song_name'], axis=1, inplace=True)\n",
    "train.head()"
   ]
  },
  {
   "cell_type": "code",
   "execution_count": 434,
   "id": "00ee5f6c-0092-4f2f-b1bb-024664a9eae4",
   "metadata": {},
   "outputs": [
    {
     "data": {
      "text/plain": [
       "array([0, 1, 2, 3, 4, 5, 6, 7, 8, 9], dtype=int64)"
      ]
     },
     "execution_count": 434,
     "metadata": {},
     "output_type": "execute_result"
    }
   ],
   "source": [
    "# check to see if all labels are ints\n",
    "train['label'].unique()"
   ]
  },
  {
   "cell_type": "code",
   "execution_count": 435,
   "id": "570237d1-bf20-4053-895e-6404bf6e664e",
   "metadata": {},
   "outputs": [
    {
     "data": {
      "text/html": [
       "<div>\n",
       "<style scoped>\n",
       "    .dataframe tbody tr th:only-of-type {\n",
       "        vertical-align: middle;\n",
       "    }\n",
       "\n",
       "    .dataframe tbody tr th {\n",
       "        vertical-align: top;\n",
       "    }\n",
       "\n",
       "    .dataframe thead th {\n",
       "        text-align: right;\n",
       "    }\n",
       "</style>\n",
       "<table border=\"1\" class=\"dataframe\">\n",
       "  <thead>\n",
       "    <tr style=\"text-align: right;\">\n",
       "      <th></th>\n",
       "      <th>mean_spectral_rolloff</th>\n",
       "      <th>std_spectral_rolloff</th>\n",
       "      <th>mean_spectral_centroid</th>\n",
       "      <th>std_spectral_centroid</th>\n",
       "      <th>mean_spectral_bandwidth</th>\n",
       "      <th>std_spectral_bandwidth</th>\n",
       "      <th>mean_spectral_flatness</th>\n",
       "      <th>std_spectral_flatness</th>\n",
       "      <th>mean_spectral_contrast</th>\n",
       "      <th>std_spectral_contrast</th>\n",
       "      <th>...</th>\n",
       "      <th>chroma_9_mean</th>\n",
       "      <th>chroma_9_std</th>\n",
       "      <th>chroma_10_mean</th>\n",
       "      <th>chroma_10_std</th>\n",
       "      <th>chroma_11_mean</th>\n",
       "      <th>chroma_11_std</th>\n",
       "      <th>chroma_12_mean</th>\n",
       "      <th>chroma_12_std</th>\n",
       "      <th>chroma_std_mean</th>\n",
       "      <th>chroma_std_std</th>\n",
       "    </tr>\n",
       "  </thead>\n",
       "  <tbody>\n",
       "    <tr>\n",
       "      <th>0</th>\n",
       "      <td>3042.260232</td>\n",
       "      <td>885.457204</td>\n",
       "      <td>1552.811865</td>\n",
       "      <td>395.559911</td>\n",
       "      <td>1747.702312</td>\n",
       "      <td>276.141616</td>\n",
       "      <td>0.002631</td>\n",
       "      <td>0.003345</td>\n",
       "      <td>22.197517</td>\n",
       "      <td>8.725292</td>\n",
       "      <td>...</td>\n",
       "      <td>0.010910</td>\n",
       "      <td>0.017231</td>\n",
       "      <td>0.018436</td>\n",
       "      <td>0.018744</td>\n",
       "      <td>0.031178</td>\n",
       "      <td>0.034395</td>\n",
       "      <td>0.005757</td>\n",
       "      <td>0.010093</td>\n",
       "      <td>0.021984</td>\n",
       "      <td>0.010099</td>\n",
       "    </tr>\n",
       "    <tr>\n",
       "      <th>1</th>\n",
       "      <td>3579.757627</td>\n",
       "      <td>1254.184130</td>\n",
       "      <td>1835.004266</td>\n",
       "      <td>586.003361</td>\n",
       "      <td>1748.172116</td>\n",
       "      <td>297.397392</td>\n",
       "      <td>0.003238</td>\n",
       "      <td>0.004356</td>\n",
       "      <td>21.466338</td>\n",
       "      <td>7.936384</td>\n",
       "      <td>...</td>\n",
       "      <td>0.023868</td>\n",
       "      <td>0.028426</td>\n",
       "      <td>0.005691</td>\n",
       "      <td>0.007263</td>\n",
       "      <td>0.009544</td>\n",
       "      <td>0.011316</td>\n",
       "      <td>0.010711</td>\n",
       "      <td>0.020425</td>\n",
       "      <td>0.014912</td>\n",
       "      <td>0.007659</td>\n",
       "    </tr>\n",
       "    <tr>\n",
       "      <th>2</th>\n",
       "      <td>3782.316288</td>\n",
       "      <td>1123.795795</td>\n",
       "      <td>1719.368948</td>\n",
       "      <td>404.082721</td>\n",
       "      <td>2031.740381</td>\n",
       "      <td>324.873388</td>\n",
       "      <td>0.002594</td>\n",
       "      <td>0.003045</td>\n",
       "      <td>22.380886</td>\n",
       "      <td>9.445157</td>\n",
       "      <td>...</td>\n",
       "      <td>0.006091</td>\n",
       "      <td>0.010903</td>\n",
       "      <td>0.015983</td>\n",
       "      <td>0.017607</td>\n",
       "      <td>0.086040</td>\n",
       "      <td>0.074920</td>\n",
       "      <td>0.003224</td>\n",
       "      <td>0.007791</td>\n",
       "      <td>0.041517</td>\n",
       "      <td>0.020867</td>\n",
       "    </tr>\n",
       "    <tr>\n",
       "      <th>3</th>\n",
       "      <td>3943.490565</td>\n",
       "      <td>1169.460660</td>\n",
       "      <td>1817.150863</td>\n",
       "      <td>546.110008</td>\n",
       "      <td>1973.773306</td>\n",
       "      <td>337.742672</td>\n",
       "      <td>0.002708</td>\n",
       "      <td>0.003212</td>\n",
       "      <td>21.161950</td>\n",
       "      <td>7.956338</td>\n",
       "      <td>...</td>\n",
       "      <td>0.007950</td>\n",
       "      <td>0.020149</td>\n",
       "      <td>0.010181</td>\n",
       "      <td>0.017838</td>\n",
       "      <td>0.035706</td>\n",
       "      <td>0.042762</td>\n",
       "      <td>0.011003</td>\n",
       "      <td>0.019487</td>\n",
       "      <td>0.028602</td>\n",
       "      <td>0.013036</td>\n",
       "    </tr>\n",
       "    <tr>\n",
       "      <th>4</th>\n",
       "      <td>2738.638738</td>\n",
       "      <td>976.165389</td>\n",
       "      <td>1360.641197</td>\n",
       "      <td>507.016163</td>\n",
       "      <td>1567.565225</td>\n",
       "      <td>212.688766</td>\n",
       "      <td>0.000767</td>\n",
       "      <td>0.001077</td>\n",
       "      <td>22.135716</td>\n",
       "      <td>6.739982</td>\n",
       "      <td>...</td>\n",
       "      <td>0.007553</td>\n",
       "      <td>0.018076</td>\n",
       "      <td>0.013796</td>\n",
       "      <td>0.023146</td>\n",
       "      <td>0.013583</td>\n",
       "      <td>0.015784</td>\n",
       "      <td>0.002274</td>\n",
       "      <td>0.005079</td>\n",
       "      <td>0.038896</td>\n",
       "      <td>0.020987</td>\n",
       "    </tr>\n",
       "  </tbody>\n",
       "</table>\n",
       "<p>5 rows × 143 columns</p>\n",
       "</div>"
      ],
      "text/plain": [
       "   mean_spectral_rolloff  std_spectral_rolloff  mean_spectral_centroid  \\\n",
       "0            3042.260232            885.457204             1552.811865   \n",
       "1            3579.757627           1254.184130             1835.004266   \n",
       "2            3782.316288           1123.795795             1719.368948   \n",
       "3            3943.490565           1169.460660             1817.150863   \n",
       "4            2738.638738            976.165389             1360.641197   \n",
       "\n",
       "   std_spectral_centroid  mean_spectral_bandwidth  std_spectral_bandwidth  \\\n",
       "0             395.559911              1747.702312              276.141616   \n",
       "1             586.003361              1748.172116              297.397392   \n",
       "2             404.082721              2031.740381              324.873388   \n",
       "3             546.110008              1973.773306              337.742672   \n",
       "4             507.016163              1567.565225              212.688766   \n",
       "\n",
       "   mean_spectral_flatness  std_spectral_flatness  mean_spectral_contrast  \\\n",
       "0                0.002631               0.003345               22.197517   \n",
       "1                0.003238               0.004356               21.466338   \n",
       "2                0.002594               0.003045               22.380886   \n",
       "3                0.002708               0.003212               21.161950   \n",
       "4                0.000767               0.001077               22.135716   \n",
       "\n",
       "   std_spectral_contrast  ...  chroma_9_mean  chroma_9_std  chroma_10_mean  \\\n",
       "0               8.725292  ...       0.010910      0.017231        0.018436   \n",
       "1               7.936384  ...       0.023868      0.028426        0.005691   \n",
       "2               9.445157  ...       0.006091      0.010903        0.015983   \n",
       "3               7.956338  ...       0.007950      0.020149        0.010181   \n",
       "4               6.739982  ...       0.007553      0.018076        0.013796   \n",
       "\n",
       "   chroma_10_std  chroma_11_mean  chroma_11_std  chroma_12_mean  \\\n",
       "0       0.018744        0.031178       0.034395        0.005757   \n",
       "1       0.007263        0.009544       0.011316        0.010711   \n",
       "2       0.017607        0.086040       0.074920        0.003224   \n",
       "3       0.017838        0.035706       0.042762        0.011003   \n",
       "4       0.023146        0.013583       0.015784        0.002274   \n",
       "\n",
       "   chroma_12_std  chroma_std_mean  chroma_std_std  \n",
       "0       0.010093         0.021984        0.010099  \n",
       "1       0.020425         0.014912        0.007659  \n",
       "2       0.007791         0.041517        0.020867  \n",
       "3       0.019487         0.028602        0.013036  \n",
       "4       0.005079         0.038896        0.020987  \n",
       "\n",
       "[5 rows x 143 columns]"
      ]
     },
     "execution_count": 435,
     "metadata": {},
     "output_type": "execute_result"
    }
   ],
   "source": [
    "X.drop(['song_name'], axis=1, inplace=True)\n",
    "X.drop(['label'], axis=1, inplace=True)\n",
    "X.head()"
   ]
  },
  {
   "cell_type": "code",
   "execution_count": 436,
   "id": "5595352e-f7ec-4cc8-8945-81a60a770899",
   "metadata": {},
   "outputs": [
    {
     "data": {
      "text/plain": [
       "0    0\n",
       "1    0\n",
       "2    0\n",
       "3    0\n",
       "4    0\n",
       "Name: label, dtype: int64"
      ]
     },
     "execution_count": 436,
     "metadata": {},
     "output_type": "execute_result"
    }
   ],
   "source": [
    "y = train['label'].copy()\n",
    "y.head()"
   ]
  },
  {
   "cell_type": "code",
   "execution_count": 437,
   "id": "8982b792-71a9-449c-8df5-517e7eb8c3f9",
   "metadata": {},
   "outputs": [],
   "source": [
    "# Normalization of Data\n",
    "scaler = StandardScaler()\n",
    "X = scaler.fit_transform(np.array(X.iloc[:, :-1], dtype = float))\n"
   ]
  },
  {
   "cell_type": "code",
   "execution_count": 447,
   "id": "6e514a73-3111-4fae-9481-9ee38c64cf8d",
   "metadata": {},
   "outputs": [],
   "source": [
    "# Split Data\n",
    "X_train, X_test, y_train, y_test = train_test_split(X, y, train_size=0.66, random_state=15, stratify=y)"
   ]
  },
  {
   "cell_type": "code",
   "execution_count": 448,
   "id": "747b2f60-7e61-4a60-a54b-e8351c653788",
   "metadata": {},
   "outputs": [
    {
     "data": {
      "text/plain": [
       "209    2\n",
       "342    4\n",
       "75     1\n",
       "500    6\n",
       "633    8\n",
       "Name: label, dtype: int64"
      ]
     },
     "execution_count": 448,
     "metadata": {},
     "output_type": "execute_result"
    }
   ],
   "source": [
    "y_train.head()"
   ]
  },
  {
   "cell_type": "code",
   "execution_count": 449,
   "id": "b5058e49-e49a-4f6a-b6e6-ce054ef50ad2",
   "metadata": {},
   "outputs": [],
   "source": [
    "scaler = MinMaxScaler()\n",
    "X_train = scaler.fit_transform(X_train)\n",
    "X_test = scaler.transform(X_test)"
   ]
  },
  {
   "cell_type": "code",
   "execution_count": 450,
   "id": "b78e8da4-776c-486e-b776-218ab57d93b7",
   "metadata": {},
   "outputs": [],
   "source": [
    "# Quantile Transformer reduces accuracy\n",
    "#Conversion from a col vector to a 1D array\n",
    "#y_test=np.ravel(y_test) \n",
    "#y_train=np.ravel(y_train) \n",
    "\n",
    "#qt = QuantileTransformer(n_quantiles=50, random_state=0)         # This section normalize the data csv\n",
    "\n",
    "#X_train=qt.fit_transform(X_train)                                 \n",
    "#X_train=pd.DataFrame(X_train) \n",
    "\n",
    "#X_test=qt.fit_transform(X_test)                                 \n",
    "#X_test=pd.DataFrame(X_test) \n"
   ]
  },
  {
   "cell_type": "code",
   "execution_count": 451,
   "id": "7785d042-1ed0-4945-9e95-b2a8fad319e5",
   "metadata": {},
   "outputs": [
    {
     "data": {
      "text/plain": [
       "(250,)"
      ]
     },
     "execution_count": 451,
     "metadata": {},
     "output_type": "execute_result"
    }
   ],
   "source": [
    "#y_test.head()\n",
    "y_test.shape"
   ]
  },
  {
   "cell_type": "code",
   "execution_count": 452,
   "id": "3542c9a3-9655-4dce-a01c-a54cfb28b25c",
   "metadata": {},
   "outputs": [
    {
     "data": {
      "text/plain": [
       "GridSearchCV(estimator=SVC(),\n",
       "             param_grid=[{'C': [1, 10, 100, 1000], 'kernel': ['linear']},\n",
       "                         {'C': [1, 10, 100, 1000], 'gamma': [0.001, 0.0001],\n",
       "                          'kernel': ['rbf']}])"
      ]
     },
     "execution_count": 452,
     "metadata": {},
     "output_type": "execute_result"
    }
   ],
   "source": [
    "# C: how much you want to avoid misclassifying each training example.\n",
    "# # Gamma: how far the influence of a single training example reaches\n",
    "\n",
    "parameters = {'kernel':('linear', 'rbf'),\n",
    "              'C':[1, 10, 20]\n",
    "             }\n",
    "\n",
    "param_grid = [\n",
    "  {'C': [1, 10, 100, 1000], 'kernel': ['linear']},\n",
    "  {'C': [1, 10, 100, 1000], 'gamma': [0.001, 0.0001], 'kernel': ['rbf']},\n",
    " ]\n",
    "\n",
    "cls=SVC()\n",
    "model = GridSearchCV(cls, param_grid)\n",
    "model.fit(X_train,y_train,groups=None)\n"
   ]
  },
  {
   "cell_type": "code",
   "execution_count": 453,
   "id": "9bef6000-4884-4366-a5c6-c5d181e6ed68",
   "metadata": {},
   "outputs": [],
   "source": [
    "# Testing \n",
    "\n",
    "test_pred = model.predict(X_test)\n",
    "\n",
    "np.savetxt(\"accuracy_solution.csv\", \n",
    "           np.dstack((np.arange(1, test_pred.size+1),test_pred))[0],\n",
    "           delimiter=',', comments=\"\", fmt='%i,%i',\n",
    "           header=\"Sample_id,Sample_label\")"
   ]
  },
  {
   "cell_type": "code",
   "execution_count": 454,
   "id": "00b04afa-5709-46dd-8f75-649ad6307d48",
   "metadata": {},
   "outputs": [
    {
     "name": "stdout",
     "output_type": "stream",
     "text": [
      "Accuracy :  0.712\n",
      "Balanced Accuracy :  0.7081311442181009\n",
      "Matthews Correlation Coefficient:  0.6820751697460775\n"
     ]
    },
    {
     "data": {
      "image/png": "[encoded data removed]",
      "text/plain": [
       "<Figure size 432x288 with 2 Axes>"
      ]
     },
     "metadata": {
      "needs_background": "light"
     },
     "output_type": "display_data"
    },
    {
     "data": {
      "text/plain": [
       "<Figure size 432x288 with 0 Axes>"
      ]
     },
     "metadata": {},
     "output_type": "display_data"
    }
   ],
   "source": [
    "print(\"Accuracy : \", accuracy_score(y_test, test_pred))\n",
    "print(\"Balanced Accuracy : \", balanced_accuracy_score(y_test, test_pred))\n",
    "print(\"Matthews Correlation Coefficient: \", matthews_corrcoef(y_test, test_pred))\n",
    "\n",
    "conf_matrix = confusion_matrix(y_test, test_pred)\n",
    "#print('\\033[1m' + \"\\n Table 1: Confusion Matrix of Test Data \\n\\n\" + '\\033[0m', conf_matrix)\n",
    "\n",
    "df_cm = pd.DataFrame(conf_matrix, index = [i for i in range(10)],\n",
    "                columns = [i for i in range(10)])\n",
    "\n",
    "plt.title('Confusion Matrix SVM - Test Data')\n",
    "sn.heatmap(df_cm, annot=True, cmap=\"YlGnBu\")\n",
    "plt.savefig('./confusion_matrix_svm_test.png')\n",
    "plt.show()\n",
    "plt.clf()"
   ]
  },
  {
   "cell_type": "code",
   "execution_count": 455,
   "id": "1ab835b7-daf5-4dc0-a1b8-05d3e7bbd6cb",
   "metadata": {},
   "outputs": [
    {
     "name": "stdout",
     "output_type": "stream",
     "text": [
      "              precision    recall  f1-score   support\n",
      "\n",
      "           0      0.750     0.652     0.698        23\n",
      "           1      0.957     0.880     0.917        25\n",
      "           2      0.472     0.680     0.557        25\n",
      "           3      0.630     0.773     0.694        22\n",
      "           4      0.714     0.600     0.652        25\n",
      "           5      0.871     0.900     0.885        30\n",
      "           6      0.741     0.833     0.784        24\n",
      "           7      0.750     0.923     0.828        26\n",
      "           8      0.786     0.440     0.564        25\n",
      "           9      0.526     0.400     0.455        25\n",
      "\n",
      "    accuracy                          0.712       250\n",
      "   macro avg      0.720     0.708     0.703       250\n",
      "weighted avg      0.724     0.712     0.707       250\n",
      "\n"
     ]
    }
   ],
   "source": [
    "print(classification_report(y_test, test_pred, digits=3))"
   ]
  },
  {
   "cell_type": "code",
   "execution_count": null,
   "id": "9d2b9ce7-6f19-49f1-846b-e4d5bd9cd7e4",
   "metadata": {},
   "outputs": [],
   "source": []
  },
  {
   "cell_type": "code",
   "execution_count": null,
   "id": "9b747a4c-9e42-4ea0-b451-f6fc3a6caa2d",
   "metadata": {},
   "outputs": [],
   "source": []
  }
 ],
 "metadata": {
  "kernelspec": {
   "display_name": "Python 3 (ipykernel)",
   "language": "python",
   "name": "python3"
  },
  "language_info": {
   "codemirror_mode": {
    "name": "ipython",
    "version": 3
   },
   "file_extension": ".py",
   "mimetype": "text/x-python",
   "name": "python",
   "nbconvert_exporter": "python",
   "pygments_lexer": "ipython3",
   "version": "3.9.6"
  }
 },
 "nbformat": 4,
 "nbformat_minor": 5
}
